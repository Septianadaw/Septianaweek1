{
  "nbformat": 4,
  "nbformat_minor": 0,
  "metadata": {
    "colab": {
      "provenance": [],
      "authorship_tag": "ABX9TyPtIzGHHq+Kzz3ARiu87Kgt",
      "include_colab_link": true
    },
    "kernelspec": {
      "name": "python3",
      "display_name": "Python 3"
    },
    "language_info": {
      "name": "python"
    }
  },
  "cells": [
    {
      "cell_type": "markdown",
      "metadata": {
        "id": "view-in-github",
        "colab_type": "text"
      },
      "source": [
        "<a href=\"https://colab.research.google.com/github/Septianadaw/Septianaweek1/blob/main/Untitled0.ipynb\" target=\"_parent\"><img src=\"https://colab.research.google.com/assets/colab-badge.svg\" alt=\"Open In Colab\"/></a>"
      ]
    },
    {
      "cell_type": "code",
      "source": [
        "# Try your first Python output\n",
        "print('Hello, Python!')"
      ],
      "metadata": {
        "colab": {
          "base_uri": "https://localhost:8080/"
        },
        "id": "_nvAarhFicsu",
        "outputId": "81b31083-af37-44ed-e175-de511f908bb7"
      },
      "execution_count": null,
      "outputs": [
        {
          "output_type": "stream",
          "name": "stdout",
          "text": [
            "Hello, Python!\n"
          ]
        }
      ]
    },
    {
      "cell_type": "code",
      "source": [
        "from google.colab import drive\n",
        "drive.mount('/content/drive')"
      ],
      "metadata": {
        "id": "kOU-8vxd_8s0"
      },
      "execution_count": null,
      "outputs": []
    },
    {
      "cell_type": "code",
      "source": [
        "# Try to display \"Teknologi Informasi - Universitas Tidar\"\n",
        "print(\"Universitas Tidar\")"
      ],
      "metadata": {
        "colab": {
          "base_uri": "https://localhost:8080/"
        },
        "id": "BxqYg-eui2o1",
        "outputId": "8257c471-f07f-491d-ef06-410d2614414a"
      },
      "execution_count": null,
      "outputs": [
        {
          "output_type": "stream",
          "name": "stdout",
          "text": [
            "Universitas Tidar\n"
          ]
        }
      ]
    },
    {
      "cell_type": "code",
      "source": [
        "# Check the Python Version\n",
        "import sys\n",
        "print(sys.version)"
      ],
      "metadata": {
        "colab": {
          "base_uri": "https://localhost:8080/"
        },
        "id": "LpNcvg1PjJoW",
        "outputId": "636492ab-9138-40e3-f78b-6d16e94587a0"
      },
      "execution_count": null,
      "outputs": [
        {
          "output_type": "stream",
          "name": "stdout",
          "text": [
            "3.10.12 (main, Jul 29 2024, 16:56:48) [GCC 11.4.0]\n"
          ]
        }
      ]
    },
    {
      "cell_type": "code",
      "source": [
        "# Practice on writing comments\n",
        "print('Hello, Python!') # This line prints a string\n",
        "print('Hi') #untuk print Hi"
      ],
      "metadata": {
        "colab": {
          "base_uri": "https://localhost:8080/"
        },
        "id": "Z0r6LdZnjUnN",
        "outputId": "8f626f58-3e43-4c35-e243-4a4b0905e5ef"
      },
      "execution_count": null,
      "outputs": [
        {
          "output_type": "stream",
          "name": "stdout",
          "text": [
            "Hello, Python!\n",
            "Hi\n"
          ]
        }
      ]
    },
    {
      "cell_type": "code",
      "source": [
        "# Print string as error message\n",
        "\n",
        "frint(\"Hello Phyton!\")"
      ],
      "metadata": {
        "colab": {
          "base_uri": "https://localhost:8080/",
          "height": 176
        },
        "id": "UyMjGo25mEyO",
        "outputId": "431dcd17-8e51-4b0f-e234-054a3f62d14d"
      },
      "execution_count": null,
      "outputs": [
        {
          "output_type": "error",
          "ename": "NameError",
          "evalue": "name 'frint' is not defined",
          "traceback": [
            "\u001b[0;31m---------------------------------------------------------------------------\u001b[0m",
            "\u001b[0;31mNameError\u001b[0m                                 Traceback (most recent call last)",
            "\u001b[0;32m<ipython-input-21-a6d39ab1c839>\u001b[0m in \u001b[0;36m<cell line: 3>\u001b[0;34m()\u001b[0m\n\u001b[1;32m      1\u001b[0m \u001b[0;31m# Print string as error message\u001b[0m\u001b[0;34m\u001b[0m\u001b[0;34m\u001b[0m\u001b[0m\n\u001b[1;32m      2\u001b[0m \u001b[0;34m\u001b[0m\u001b[0m\n\u001b[0;32m----> 3\u001b[0;31m \u001b[0mfrint\u001b[0m\u001b[0;34m(\u001b[0m\u001b[0;34m\"Hello Phyton!\"\u001b[0m\u001b[0;34m)\u001b[0m\u001b[0;34m\u001b[0m\u001b[0;34m\u001b[0m\u001b[0m\n\u001b[0m",
            "\u001b[0;31mNameError\u001b[0m: name 'frint' is not defined"
          ]
        }
      ]
    },
    {
      "cell_type": "code",
      "source": [
        "# Try to see build in error message\n",
        "\n",
        "print(\"Hello Python!)"
      ],
      "metadata": {
        "colab": {
          "base_uri": "https://localhost:8080/",
          "height": 106
        },
        "id": "pVVSQpI4mfB2",
        "outputId": "f73309c2-1728-4c4c-e591-ec7c3cc0fdd8"
      },
      "execution_count": null,
      "outputs": [
        {
          "output_type": "error",
          "ename": "SyntaxError",
          "evalue": "unterminated string literal (detected at line 3) (<ipython-input-22-c938072626b6>, line 3)",
          "traceback": [
            "\u001b[0;36m  File \u001b[0;32m\"<ipython-input-22-c938072626b6>\"\u001b[0;36m, line \u001b[0;32m3\u001b[0m\n\u001b[0;31m    print(\"Hello Python!)\u001b[0m\n\u001b[0m          ^\u001b[0m\n\u001b[0;31mSyntaxError\u001b[0m\u001b[0;31m:\u001b[0m unterminated string literal (detected at line 3)\n"
          ]
        }
      ]
    },
    {
      "cell_type": "code",
      "source": [
        "# Print string and error to see the running order\n",
        "\n",
        "print(\"This will be printed\")\n",
        "frint(\"this will cause an error\")\n",
        "print(\"This will NOT be printed\")\n"
      ],
      "metadata": {
        "colab": {
          "base_uri": "https://localhost:8080/",
          "height": 211
        },
        "id": "pxwtic4Em35X",
        "outputId": "419687e7-9f39-49ff-adfa-25a57c751d19"
      },
      "execution_count": null,
      "outputs": [
        {
          "output_type": "stream",
          "name": "stdout",
          "text": [
            "This will be printed\n"
          ]
        },
        {
          "output_type": "error",
          "ename": "NameError",
          "evalue": "name 'frint' is not defined",
          "traceback": [
            "\u001b[0;31m---------------------------------------------------------------------------\u001b[0m",
            "\u001b[0;31mNameError\u001b[0m                                 Traceback (most recent call last)",
            "\u001b[0;32m<ipython-input-23-fd4578c9cf44>\u001b[0m in \u001b[0;36m<cell line: 4>\u001b[0;34m()\u001b[0m\n\u001b[1;32m      2\u001b[0m \u001b[0;34m\u001b[0m\u001b[0m\n\u001b[1;32m      3\u001b[0m \u001b[0mprint\u001b[0m\u001b[0;34m(\u001b[0m\u001b[0;34m\"This will be printed\"\u001b[0m\u001b[0;34m)\u001b[0m\u001b[0;34m\u001b[0m\u001b[0;34m\u001b[0m\u001b[0m\n\u001b[0;32m----> 4\u001b[0;31m \u001b[0mfrint\u001b[0m\u001b[0;34m(\u001b[0m\u001b[0;34m\"this will cause an error\"\u001b[0m\u001b[0;34m)\u001b[0m\u001b[0;34m\u001b[0m\u001b[0;34m\u001b[0m\u001b[0m\n\u001b[0m\u001b[1;32m      5\u001b[0m \u001b[0mprint\u001b[0m\u001b[0;34m(\u001b[0m\u001b[0;34m\"This will NOT be printed\"\u001b[0m\u001b[0;34m)\u001b[0m\u001b[0;34m\u001b[0m\u001b[0;34m\u001b[0m\u001b[0m\n",
            "\u001b[0;31mNameError\u001b[0m: name 'frint' is not defined"
          ]
        }
      ]
    },
    {
      "cell_type": "code",
      "source": [
        "# Write your code below and press Shift+Enter to execute"
      ],
      "metadata": {
        "id": "pfAbvhp5n8k2"
      },
      "execution_count": null,
      "outputs": []
    },
    {
      "cell_type": "markdown",
      "source": [],
      "metadata": {
        "id": "MnbIdyqLkBfW"
      }
    },
    {
      "cell_type": "code",
      "source": [
        "# Write your code below and press Shift+Enter to execute"
      ],
      "metadata": {
        "id": "w2bzEUHHoOhG"
      },
      "execution_count": null,
      "outputs": []
    },
    {
      "cell_type": "code",
      "source": [
        "print('Nama         : Septiana Diyah Ayu Wulandari')\n",
        "print()\n",
        "print('NPM          : 2410506013')\n",
        "print()\n",
        "print('Alamat       : Glendongan, Pomah, Tulung, Klaten')\n",
        "print()\n",
        "print('Tinggi Badan : 154')\n",
        "print()\n",
        "print('Berat Badan  : 44')\n"
      ],
      "metadata": {
        "colab": {
          "base_uri": "https://localhost:8080/"
        },
        "id": "mnha-494o1R3",
        "outputId": "50473465-faba-4374-a8d9-d5fc9059794f"
      },
      "execution_count": null,
      "outputs": [
        {
          "output_type": "stream",
          "name": "stdout",
          "text": [
            "Nama         : Septiana Diyah Ayu Wulandari\n",
            "\n",
            "NPM          : 2410506013\n",
            "\n",
            "Alamat       : Glendongan, Pomah, Tulung, Klaten\n",
            "\n",
            "Tinggi Badan : 154\n",
            "\n",
            "Berat Badan  : 44\n"
          ]
        }
      ]
    },
    {
      "cell_type": "markdown",
      "source": [],
      "metadata": {
        "id": "xxwL6xEuo0yf"
      }
    },
    {
      "cell_type": "code",
      "source": [
        "print('\\033[1mUNIVERSITAS TIDAR\\033[0m')\n",
        "print('Universitas Tidar merupakan Perguruan Tinggi Pemerintah atau Perguruan Tinggi Negeri yang telah ditetapkan berdasarkan Peraturan Presidem Republik Indonesia Nomor 23 Tahun 2014 pada tanggal 1 April 2014.')\n",
        "print()\n",
        "print('\\033[1mJURUSAN TEKNIK ELEKTRO, MEKATRONIKA DAN INFORMASI\\033[0m')\n",
        "print('Jurusan Teknik Elektro terdiri atas tiga program studi, antara lain:')\n",
        "print('    1. S1 Teknik Elektro \\x1B[3m(Bachelor of Elektrical Engineering)\\x1B[0m')\n",
        "print('    2. S1 Teknologi Informasi \\x1b[3m(Bachelor of Information Technology)\\x1B[0m')\n",
        "print('    3. S1 Teknik Mekatronika \\x1B[3m(Bachelor of Mechatronics Engineering\\x1B[0m)')\n",
        "print()"
      ],
      "metadata": {
        "colab": {
          "base_uri": "https://localhost:8080/"
        },
        "id": "T-fV2g-6rZkQ",
        "outputId": "b1120f82-0a85-4444-a866-5d6ed1384de2"
      },
      "execution_count": null,
      "outputs": [
        {
          "output_type": "stream",
          "name": "stdout",
          "text": [
            "\u001b[1mUNIVERSITAS TIDAR\u001b[0m\n",
            "Universitas Tidar merupakan Perguruan Tinggi Pemerintah atau Perguruan Tinggi Negeri yang telah ditetapkan berdasarkan Peraturan Presidem Republik Indonesia Nomor 23 Tahun 2014 pada tanggal 1 April 2014.\n",
            "\n",
            "\u001b[1mJURUSAN TEKNIK ELEKTRO, MEKATRONIKA DAN INFORMASI\u001b[0m\n",
            "Jurusan Teknik Elektro terdiri atas tiga program studi, antara lain:\n",
            "    1. S1 Teknik Elektro \u001b[3m(Bachelor of Elektrical Engineering)\u001b[0m\n",
            "    2. S1 Teknologi Informasi \u001b[3m(Bachelor of Information Technology)\u001b[0m\n",
            "    3. S1 Teknik Mekatronika \u001b[3m(Bachelor of Mechatronics Engineering\u001b[0m)\n",
            "\n"
          ]
        }
      ]
    }
  ]
}